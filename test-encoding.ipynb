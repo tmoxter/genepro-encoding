{
 "cells": [
  {
   "cell_type": "code",
   "execution_count": 1,
   "metadata": {},
   "outputs": [],
   "source": [
    "import genepro.comptree_generators as treegen\n",
    "import genepro.node_impl as N\n",
    "from genepro.encoding import Encoder\n",
    "import numpy as np\n",
    "import matplotlib.pyplot as plt"
   ]
  },
  {
   "cell_type": "code",
   "execution_count": 2,
   "metadata": {},
   "outputs": [],
   "source": [
    "xtrain = np.linspace(-7.5,7.5,100).reshape(100,1)\n",
    "unaryNodes = [N.Sin(), N.Cos(), N.Exp(), N.Log()]\n",
    "binaryNodes = [N.Minus(), N.Plus(), N.Times(), N.Div()]\n",
    "leafNodes = [N.Feature(xtrain, 0), N.Constant(42)]"
   ]
  },
  {
   "cell_type": "code",
   "execution_count": 3,
   "metadata": {},
   "outputs": [
    {
     "name": "stderr",
     "output_type": "stream",
     "text": [
      "/Users/tobiasmoxter/Documents/code/py/genepro-encoding/genepro/node_impl.py:156: RuntimeWarning: overflow encountered in exp\n",
      "  return np.clip(np.exp(x), -1e16, 1e16)\n"
     ]
    }
   ],
   "source": [
    "for i in range(100):\n",
    "    tree1 = treegen.sample_tree(unaryNodes, binaryNodes, leafNodes, 2)\n",
    "    encoder = Encoder(unaryNodes, binaryNodes, leafNodes)\n",
    "    encoding = encoder.encode(tree1, xtrain)\n",
    "    tree2 = encoder.decode(encoding)\n",
    "    y1, y2 = tree1(xtrain), tree2(xtrain)\n",
    "    assert all(y1 - y2 < 1e-4), \"run {}, t1:{}, t2:{}\".format(i, tree1.get_subtree(), tree2.get_subtree())\n"
   ]
  },
  {
   "cell_type": "code",
   "execution_count": null,
   "metadata": {},
   "outputs": [],
   "source": []
  }
 ],
 "metadata": {
  "kernelspec": {
   "display_name": "Python 3.10.6 64-bit ('3.10.6')",
   "language": "python",
   "name": "python3"
  },
  "language_info": {
   "codemirror_mode": {
    "name": "ipython",
    "version": 3
   },
   "file_extension": ".py",
   "mimetype": "text/x-python",
   "name": "python",
   "nbconvert_exporter": "python",
   "pygments_lexer": "ipython3",
   "version": "3.10.6"
  },
  "orig_nbformat": 4,
  "vscode": {
   "interpreter": {
    "hash": "3ff61fb54a8950fca0caf005351ed5e754926da99c2b84e433b6b57610a85618"
   }
  }
 },
 "nbformat": 4,
 "nbformat_minor": 2
}
