{
 "cells": [
  {
   "cell_type": "code",
   "execution_count": 1,
   "metadata": {},
   "outputs": [],
   "source": [
    "import genepro.comptree_generators as treegen\n",
    "import genepro.node_impl as N\n",
    "#from genepro.encoding import Encoder\n",
    "from genepro.local_search import RandomWalk, SimulatedAnnealingSingle\n",
    "import numpy as np\n",
    "import matplotlib.pyplot as plt"
   ]
  },
  {
   "cell_type": "code",
   "execution_count": 2,
   "metadata": {},
   "outputs": [],
   "source": [
    "xtrain = np.linspace(-7.5,7.5,100).reshape(100,1)\n",
    "unaryNodes = [N.Sin(), N.Cos(), N.Exp(), N.Log()]\n",
    "binaryNodes = [N.Minus(), N.Plus(), N.Times(), N.Div()]\n",
    "leafNodes = [N.Feature(xtrain, 0), N.Constant(42)]"
   ]
  },
  {
   "cell_type": "code",
   "execution_count": 3,
   "metadata": {},
   "outputs": [
    {
     "name": "stdout",
     "output_type": "stream",
     "text": [
      "[-, /, x_0, 42, log/, 42, 42]\n"
     ]
    }
   ],
   "source": [
    "tree1 = treegen.sample_tree(unaryNodes, binaryNodes, leafNodes, 2)\n",
    "print(tree1.get_subtree())\n",
    "ytrain = tree1(xtrain)"
   ]
  },
  {
   "cell_type": "code",
   "execution_count": 8,
   "metadata": {},
   "outputs": [
    {
     "name": "stdout",
     "output_type": "stream",
     "text": [
      "(Re)start: 0...\n",
      "(Re)start: 1...\n",
      "(Re)start: 2...\n",
      "(Re)start: 3...\n",
      "(Re)start: 4...\n",
      "(Re)start: 5...\n",
      "(Re)start: 6...\n",
      "(Re)start: 7...\n",
      "(Re)start: 8...\n",
      "(Re)start: 9...\n",
      "(Re)start: 10...\n",
      "(Re)start: 11...\n",
      "(Re)start: 12...\n",
      "(Re)start: 13...\n",
      "(Re)start: 14...\n"
     ]
    }
   ],
   "source": [
    "# If plotting empty /temp dir before rerunning so gif doesnt mix runs\n",
    "searcher = RandomWalk(unaryNodes, binaryNodes, leafNodes, xtrain, ytrain)\n",
    "searcher.plot = True\n",
    "best_of_runs_f, best_of_runs_t, track = searcher.search(0.75, 50, 15)"
   ]
  },
  {
   "cell_type": "code",
   "execution_count": 9,
   "metadata": {},
   "outputs": [
    {
     "data": {
      "text/plain": [
       "[cos-, +, log42, x_0, cos/, cos42, 42]"
      ]
     },
     "execution_count": 9,
     "metadata": {},
     "output_type": "execute_result"
    }
   ],
   "source": [
    "best_of_runs_t.get_subtree()"
   ]
  },
  {
   "cell_type": "code",
   "execution_count": 4,
   "metadata": {},
   "outputs": [
    {
     "name": "stderr",
     "output_type": "stream",
     "text": [
      "/Users/tobiasmoxter/Documents/code/py/genepro-encoding/genepro/node_impl.py:156: RuntimeWarning: overflow encountered in exp\n",
      "  return np.clip(np.exp(x), -1e16, 1e16)\n"
     ]
    },
    {
     "name": "stdout",
     "output_type": "stream",
     "text": [
      "Initial T: 8.608079029495359\n",
      "(Re)start: 0...\n",
      "New temperature: 8.608079029495359\n",
      "Current best: 0.8868\n"
     ]
    },
    {
     "name": "stderr",
     "output_type": "stream",
     "text": [
      "/Users/tobiasmoxter/Documents/code/py/genepro-encoding/genepro/local_search.py:272: RuntimeWarning: overflow encountered in exp\n",
      "  elif np.random.random() < np.exp(-(state_f - var_f)/temp):\n"
     ]
    },
    {
     "name": "stdout",
     "output_type": "stream",
     "text": [
      "New temperature: 8.435917448905451\n",
      "Current best: 0.0108\n",
      "New temperature: 8.267199099927343\n",
      "Current best: 0.0108\n",
      "New temperature: 8.101855117928796\n",
      "Current best: 0.0108\n",
      "New temperature: 7.93981801557022\n",
      "Current best: 0.0108\n",
      "New temperature: 7.781021655258815\n",
      "Current best: 0.0108\n",
      "New temperature: 7.625401222153639\n",
      "Current best: 0.0108\n",
      "New temperature: 7.472893197710566\n",
      "Current best: 0.0108\n",
      "New temperature: 7.323435333756355\n",
      "Current best: 0.0108\n",
      "New temperature: 7.176966627081228\n",
      "Current best: 0.0108\n",
      "New temperature: 7.033427294539603\n",
      "Current best: 0.0108\n",
      "New temperature: 6.892758748648811\n",
      "Current best: 0.0108\n",
      "New temperature: 6.7549035736758345\n",
      "Current best: 0.0108\n",
      "New temperature: 6.6198055022023174\n",
      "Current best: 0.0108\n",
      "New temperature: 6.487409392158271\n",
      "Current best: 0.0108\n",
      "New temperature: 6.3576612043151055\n",
      "Current best: 0.0108\n",
      "New temperature: 6.230507980228803\n",
      "Current best: 0.0108\n",
      "New temperature: 6.105897820624227\n",
      "Current best: 0.0108\n",
      "New temperature: 5.983779864211742\n",
      "Current best: 0.0108\n",
      "New temperature: 5.864104266927507\n",
      "Current best: 0.0108\n",
      "New temperature: 5.746822181588957\n",
      "Current best: 0.0108\n",
      "New temperature: 5.631885737957178\n",
      "Current best: 0.0069\n",
      "New temperature: 5.519248023198034\n",
      "Current best: 0.0069\n",
      "New temperature: 5.408863062734073\n",
      "Current best: 0.0069\n",
      "New temperature: 5.300685801479392\n",
      "Current best: 0.0069\n",
      "New temperature: 5.194672085449804\n",
      "Current best: 0.0069\n",
      "New temperature: 5.0907786437408085\n",
      "Current best: 0.0069\n",
      "New temperature: 4.988963070865992\n",
      "Current best: 0.0069\n",
      "New temperature: 4.889183809448673\n",
      "Current best: 0.0069\n",
      "New temperature: 4.791400133259699\n",
      "Current best: 0.0069\n",
      "New temperature: 4.695572130594504\n",
      "Current best: 0.0069\n",
      "New temperature: 4.601660687982614\n",
      "Current best: 0.0069\n",
      "New temperature: 4.509627474222961\n",
      "Current best: 0.0069\n",
      "New temperature: 4.4194349247385025\n",
      "Current best: 0.0069\n",
      "New temperature: 4.331046226243733\n",
      "Current best: 0.0069\n",
      "New temperature: 4.2444253017188585\n",
      "Current best: 0.0069\n",
      "New temperature: 4.159536795684481\n",
      "Current best: 0.0069\n",
      "New temperature: 4.076346059770791\n",
      "Current best: 0.0069\n",
      "New temperature: 3.9948191385753753\n",
      "Current best: 0.0069\n",
      "New temperature: 3.9149227558038677\n",
      "Current best: 0.0069\n",
      "New temperature: 3.8366243006877903\n",
      "Current best: 0.0069\n",
      "New temperature: 3.7598918146740345\n",
      "Current best: 0.0069\n",
      "New temperature: 3.6846939783805537\n",
      "Current best: 0.0069\n",
      "New temperature: 3.6110000988129425\n",
      "Current best: 0.0069\n",
      "New temperature: 3.5387800968366836\n",
      "Current best: 0.0069\n",
      "New temperature: 3.46800449489995\n",
      "Current best: 0.0069\n",
      "New temperature: 3.398644405001951\n",
      "Current best: 0.0069\n",
      "New temperature: 3.330671516901912\n",
      "Current best: 0.0069\n",
      "New temperature: 3.2640580865638738\n",
      "Current best: 0.0069\n",
      "New temperature: 3.1987769248325963\n",
      "Current best: 0.0069\n",
      "New temperature: 3.1348013863359445\n",
      "Current best: 0.0069\n",
      "New temperature: 3.0721053586092255\n",
      "Current best: 0.0069\n",
      "New temperature: 3.010663251437041\n",
      "Current best: 0.0069\n",
      "New temperature: 2.9504499864083003\n",
      "Current best: 0.0069\n",
      "New temperature: 2.8914409866801343\n",
      "Current best: 0.0069\n",
      "New temperature: 2.8336121669465317\n",
      "Current best: 0.0069\n",
      "New temperature: 2.776939923607601\n",
      "Current best: 0.0069\n",
      "New temperature: 2.721401125135449\n",
      "Current best: 0.0069\n",
      "New temperature: 2.6669731026327397\n",
      "Current best: 0.0069\n",
      "New temperature: 2.6136336405800846\n",
      "Current best: 0.0069\n",
      "New temperature: 2.5613609677684828\n",
      "Current best: 0.0069\n",
      "New temperature: 2.510133748413113\n",
      "Current best: 0.0069\n",
      "New temperature: 2.4599310734448507\n",
      "Current best: 0.0069\n",
      "New temperature: 2.410732451975954\n",
      "Current best: 0.0069\n",
      "New temperature: 2.3625178029364347\n",
      "Current best: 0.0069\n",
      "New temperature: 2.315267446877706\n",
      "Current best: 0.0069\n",
      "New temperature: 2.2689620979401517\n",
      "Current best: 0.0069\n",
      "New temperature: 2.2235828559813484\n",
      "Current best: 0.0069\n",
      "New temperature: 2.1791111988617216\n",
      "Current best: 0.0069\n",
      "New temperature: 2.1355289748844872\n",
      "Current best: 0.0069\n",
      "New temperature: 2.0928183953867974\n",
      "Current best: 0.0069\n",
      "New temperature: 2.0509620274790614\n",
      "Current best: 0.0069\n",
      "New temperature: 2.0099427869294804\n",
      "Current best: 0.0069\n",
      "New temperature: 1.9697439311908906\n",
      "Current best: 0.0069\n",
      "New temperature: 1.9303490525670728\n",
      "Current best: 0.0069\n",
      "New temperature: 1.8917420715157314\n",
      "Current best: 0.0069\n",
      "New temperature: 1.8539072300854167\n",
      "Current best: 0.0069\n",
      "New temperature: 1.8168290854837084\n",
      "Current best: 0.0069\n",
      "New temperature: 1.7804925037740342\n",
      "Current best: 0.0069\n",
      "New temperature: 1.7448826536985536\n",
      "Current best: 0.0069\n",
      "New temperature: 1.7099850006245825\n",
      "Current best: 0.0069\n",
      "New temperature: 1.6757853006120909\n",
      "Current best: 0.0069\n",
      "New temperature: 1.6422695945998491\n",
      "Current best: 0.0069\n",
      "New temperature: 1.609424202707852\n",
      "Current best: 0.0069\n",
      "New temperature: 1.577235718653695\n",
      "Current best: 0.0069\n",
      "New temperature: 1.5456910042806211\n",
      "Current best: 0.0069\n",
      "New temperature: 1.5147771841950086\n",
      "Current best: 0.0069\n",
      "New temperature: 1.4844816405111083\n",
      "Current best: 0.0069\n",
      "New temperature: 1.454792007700886\n",
      "Current best: 0.0069\n",
      "New temperature: 1.4256961675468682\n",
      "Current best: 0.0069\n",
      "New temperature: 1.3971822441959307\n",
      "Current best: 0.0069\n",
      "New temperature: 1.3692385993120122\n",
      "Current best: 0.0069\n",
      "New temperature: 1.3418538273257719\n",
      "Current best: 0.0069\n",
      "New temperature: 1.3150167507792563\n",
      "Current best: 0.0069\n",
      "New temperature: 1.2887164157636712\n",
      "Current best: 0.0069\n",
      "New temperature: 1.2629420874483979\n",
      "Current best: 0.0069\n",
      "New temperature: 1.2376832456994298\n",
      "Current best: 0.0069\n",
      "New temperature: 1.2129295807854412\n",
      "Current best: 0.0069\n",
      "New temperature: 1.1886709891697325\n",
      "Current best: 0.0069\n",
      "New temperature: 1.1648975693863377\n",
      "Current best: 0.0069\n",
      "New temperature: 1.141599617998611\n",
      "Current best: 0.0069\n",
      "New temperature: 1.1187676256386387\n",
      "Current best: 0.0069\n",
      "New temperature: 1.096392273125866\n",
      "Current best: 0.0069\n",
      "New temperature: 1.0744644276633486\n",
      "Current best: 0.0069\n",
      "New temperature: 1.0529751391100817\n",
      "Current best: 0.0069\n",
      "New temperature: 1.03191563632788\n",
      "Current best: 0.0069\n",
      "Terminating sucessfully...\n",
      "Done\n"
     ]
    }
   ],
   "source": [
    "# If plotting empty /temp dir before rerunning so gif doesnt mix runs\n",
    "searcher = SimulatedAnnealingSingle(unaryNodes, binaryNodes, leafNodes, xtrain, ytrain)\n",
    "searcher.plot = True\n",
    "best_of_runs_f, best_of_runs_t, track = searcher.search(0.75, 1, 100)"
   ]
  },
  {
   "cell_type": "code",
   "execution_count": null,
   "metadata": {},
   "outputs": [],
   "source": []
  }
 ],
 "metadata": {
  "kernelspec": {
   "display_name": "Python 3.10.6 64-bit ('3.10.6')",
   "language": "python",
   "name": "python3"
  },
  "language_info": {
   "codemirror_mode": {
    "name": "ipython",
    "version": 3
   },
   "file_extension": ".py",
   "mimetype": "text/x-python",
   "name": "python",
   "nbconvert_exporter": "python",
   "pygments_lexer": "ipython3",
   "version": "3.10.6"
  },
  "orig_nbformat": 4,
  "vscode": {
   "interpreter": {
    "hash": "3ff61fb54a8950fca0caf005351ed5e754926da99c2b84e433b6b57610a85618"
   }
  }
 },
 "nbformat": 4,
 "nbformat_minor": 2
}
