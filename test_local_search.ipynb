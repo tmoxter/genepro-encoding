{
 "cells": [
  {
   "cell_type": "code",
   "execution_count": 1,
   "metadata": {},
   "outputs": [],
   "source": [
    "import genepro.comptree_generators as treegen\n",
    "import genepro.node_impl as N\n",
    "#from genepro.encoding import Encoder\n",
    "from genepro.local_search import RandomWalk\n",
    "import numpy as np\n",
    "import matplotlib.pyplot as plt"
   ]
  },
  {
   "cell_type": "code",
   "execution_count": 2,
   "metadata": {},
   "outputs": [],
   "source": [
    "xtrain = np.linspace(-7.5,7.5,100).reshape(100,1)\n",
    "unaryNodes = [N.Sin(), N.Cos(), N.Exp(), N.Log()]\n",
    "binaryNodes = [N.Minus(), N.Plus(), N.Times(), N.Div()]\n",
    "leafNodes = [N.Feature(xtrain, 0), N.Constant(42)]"
   ]
  },
  {
   "cell_type": "code",
   "execution_count": 7,
   "metadata": {},
   "outputs": [
    {
     "name": "stdout",
     "output_type": "stream",
     "text": [
      "[sinxor1, -, 42, 42, sin+, x_0, 42]\n"
     ]
    }
   ],
   "source": [
    "tree1 = treegen.sample_tree(unaryNodes, binaryNodes, leafNodes, 2)\n",
    "print(tree1.get_subtree())\n",
    "tree1y = tree1(xtrain)"
   ]
  },
  {
   "cell_type": "code",
   "execution_count": 8,
   "metadata": {},
   "outputs": [
    {
     "name": "stdout",
     "output_type": "stream",
     "text": [
      "(Re)start: 0...\n",
      "(Re)start: 1...\n",
      "(Re)start: 2...\n",
      "(Re)start: 3...\n",
      "(Re)start: 4...\n",
      "(Re)start: 5...\n",
      "(Re)start: 6...\n",
      "(Re)start: 7...\n",
      "(Re)start: 8...\n",
      "(Re)start: 9...\n",
      "(Re)start: 10...\n",
      "(Re)start: 11...\n",
      "(Re)start: 12...\n",
      "(Re)start: 13...\n",
      "(Re)start: 14...\n"
     ]
    }
   ],
   "source": [
    "# If plotting empty /temp dir before rerunning so gif doesnt mix runs\n",
    "searcher = RandomWalk(unaryNodes, binaryNodes, leafNodes, xtrain, tree1y)\n",
    "searcher.plot = True\n",
    "best_of_runs_f, best_of_runs_t, track = searcher.search(0.75, 50, 15)"
   ]
  },
  {
   "cell_type": "code",
   "execution_count": 9,
   "metadata": {},
   "outputs": [
    {
     "data": {
      "text/plain": [
       "[cos-, +, log42, x_0, cos/, cos42, 42]"
      ]
     },
     "execution_count": 9,
     "metadata": {},
     "output_type": "execute_result"
    }
   ],
   "source": [
    "best_of_runs_t.get_subtree()"
   ]
  },
  {
   "cell_type": "code",
   "execution_count": null,
   "metadata": {},
   "outputs": [],
   "source": []
  }
 ],
 "metadata": {
  "kernelspec": {
   "display_name": "Python 3.10.6 64-bit ('3.10.6')",
   "language": "python",
   "name": "python3"
  },
  "language_info": {
   "codemirror_mode": {
    "name": "ipython",
    "version": 3
   },
   "file_extension": ".py",
   "mimetype": "text/x-python",
   "name": "python",
   "nbconvert_exporter": "python",
   "pygments_lexer": "ipython3",
   "version": "3.10.6"
  },
  "orig_nbformat": 4,
  "vscode": {
   "interpreter": {
    "hash": "3ff61fb54a8950fca0caf005351ed5e754926da99c2b84e433b6b57610a85618"
   }
  }
 },
 "nbformat": 4,
 "nbformat_minor": 2
}
